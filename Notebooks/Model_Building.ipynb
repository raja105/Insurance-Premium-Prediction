{
  "nbformat": 4,
  "nbformat_minor": 0,
  "metadata": {
    "colab": {
      "name": "Model_Building.ipynb",
      "provenance": []
    },
    "kernelspec": {
      "name": "python3",
      "display_name": "Python 3"
    },
    "language_info": {
      "name": "python"
    }
  },
  "cells": [
    {
      "cell_type": "code",
      "source": [
        "import pandas as pd\n",
        "import numpy as np\n"
      ],
      "metadata": {
        "id": "GNY4t34uwxkB"
      },
      "execution_count": 2,
      "outputs": []
    },
    {
      "cell_type": "code",
      "source": [
        "df = pd.read_csv(\"processed data.csv\")"
      ],
      "metadata": {
        "id": "-aqtRkkpw8dp"
      },
      "execution_count": 3,
      "outputs": []
    },
    {
      "cell_type": "code",
      "execution_count": 4,
      "metadata": {
        "colab": {
          "base_uri": "https://localhost:8080/",
          "height": 206
        },
        "id": "pP4BzZmXsggv",
        "outputId": "d4fc0fcc-edb3-4016-c62f-73cbc0543cf0"
      },
      "outputs": [
        {
          "output_type": "execute_result",
          "data": {
            "text/html": [
              "<div>\n",
              "<style scoped>\n",
              "    .dataframe tbody tr th:only-of-type {\n",
              "        vertical-align: middle;\n",
              "    }\n",
              "\n",
              "    .dataframe tbody tr th {\n",
              "        vertical-align: top;\n",
              "    }\n",
              "\n",
              "    .dataframe thead th {\n",
              "        text-align: right;\n",
              "    }\n",
              "</style>\n",
              "<table border=\"1\" class=\"dataframe\">\n",
              "  <thead>\n",
              "    <tr style=\"text-align: right;\">\n",
              "      <th></th>\n",
              "      <th>Unnamed: 0</th>\n",
              "      <th>age</th>\n",
              "      <th>bmi</th>\n",
              "      <th>children</th>\n",
              "      <th>expenses</th>\n",
              "      <th>sex_female</th>\n",
              "      <th>sex_male</th>\n",
              "      <th>smoker_no</th>\n",
              "      <th>smoker_yes</th>\n",
              "      <th>region_northeast</th>\n",
              "      <th>region_northwest</th>\n",
              "      <th>region_southeast</th>\n",
              "      <th>region_southwest</th>\n",
              "    </tr>\n",
              "  </thead>\n",
              "  <tbody>\n",
              "    <tr>\n",
              "      <th>0</th>\n",
              "      <td>0</td>\n",
              "      <td>19</td>\n",
              "      <td>27.9</td>\n",
              "      <td>0</td>\n",
              "      <td>16884.92</td>\n",
              "      <td>1</td>\n",
              "      <td>0</td>\n",
              "      <td>0</td>\n",
              "      <td>1</td>\n",
              "      <td>0</td>\n",
              "      <td>0</td>\n",
              "      <td>0</td>\n",
              "      <td>1</td>\n",
              "    </tr>\n",
              "    <tr>\n",
              "      <th>1</th>\n",
              "      <td>1</td>\n",
              "      <td>18</td>\n",
              "      <td>33.8</td>\n",
              "      <td>1</td>\n",
              "      <td>1725.55</td>\n",
              "      <td>0</td>\n",
              "      <td>1</td>\n",
              "      <td>1</td>\n",
              "      <td>0</td>\n",
              "      <td>0</td>\n",
              "      <td>0</td>\n",
              "      <td>1</td>\n",
              "      <td>0</td>\n",
              "    </tr>\n",
              "    <tr>\n",
              "      <th>2</th>\n",
              "      <td>2</td>\n",
              "      <td>28</td>\n",
              "      <td>33.0</td>\n",
              "      <td>3</td>\n",
              "      <td>4449.46</td>\n",
              "      <td>0</td>\n",
              "      <td>1</td>\n",
              "      <td>1</td>\n",
              "      <td>0</td>\n",
              "      <td>0</td>\n",
              "      <td>0</td>\n",
              "      <td>1</td>\n",
              "      <td>0</td>\n",
              "    </tr>\n",
              "    <tr>\n",
              "      <th>3</th>\n",
              "      <td>3</td>\n",
              "      <td>33</td>\n",
              "      <td>22.7</td>\n",
              "      <td>0</td>\n",
              "      <td>21984.47</td>\n",
              "      <td>0</td>\n",
              "      <td>1</td>\n",
              "      <td>1</td>\n",
              "      <td>0</td>\n",
              "      <td>0</td>\n",
              "      <td>1</td>\n",
              "      <td>0</td>\n",
              "      <td>0</td>\n",
              "    </tr>\n",
              "    <tr>\n",
              "      <th>4</th>\n",
              "      <td>4</td>\n",
              "      <td>32</td>\n",
              "      <td>28.9</td>\n",
              "      <td>0</td>\n",
              "      <td>3866.86</td>\n",
              "      <td>0</td>\n",
              "      <td>1</td>\n",
              "      <td>1</td>\n",
              "      <td>0</td>\n",
              "      <td>0</td>\n",
              "      <td>1</td>\n",
              "      <td>0</td>\n",
              "      <td>0</td>\n",
              "    </tr>\n",
              "  </tbody>\n",
              "</table>\n",
              "</div>"
            ],
            "text/plain": [
              "   Unnamed: 0  age   bmi  ...  region_northwest  region_southeast  region_southwest\n",
              "0           0   19  27.9  ...                 0                 0                 1\n",
              "1           1   18  33.8  ...                 0                 1                 0\n",
              "2           2   28  33.0  ...                 0                 1                 0\n",
              "3           3   33  22.7  ...                 1                 0                 0\n",
              "4           4   32  28.9  ...                 1                 0                 0\n",
              "\n",
              "[5 rows x 13 columns]"
            ]
          },
          "metadata": {},
          "execution_count": 4
        }
      ],
      "source": [
        "df.head()"
      ]
    },
    {
      "cell_type": "code",
      "source": [
        "x = df.drop(\"expenses\",axis=1)\n",
        "y = df[\"expenses\"]"
      ],
      "metadata": {
        "id": "K38UYrWHsrzG"
      },
      "execution_count": 5,
      "outputs": []
    },
    {
      "cell_type": "code",
      "source": [
        "x.shape"
      ],
      "metadata": {
        "colab": {
          "base_uri": "https://localhost:8080/"
        },
        "id": "qDVhN-5Gsr3f",
        "outputId": "c0b48281-0a3d-456f-e71e-cd1d36a055c3"
      },
      "execution_count": 6,
      "outputs": [
        {
          "output_type": "execute_result",
          "data": {
            "text/plain": [
              "(1338, 12)"
            ]
          },
          "metadata": {},
          "execution_count": 6
        }
      ]
    },
    {
      "cell_type": "code",
      "source": [
        "y.shape"
      ],
      "metadata": {
        "colab": {
          "base_uri": "https://localhost:8080/"
        },
        "id": "JpLgRTwvsr6i",
        "outputId": "5125226f-c013-4627-9987-bcd43df7ed50"
      },
      "execution_count": 7,
      "outputs": [
        {
          "output_type": "execute_result",
          "data": {
            "text/plain": [
              "(1338,)"
            ]
          },
          "metadata": {},
          "execution_count": 7
        }
      ]
    },
    {
      "cell_type": "code",
      "source": [
        "from sklearn.model_selection import train_test_split"
      ],
      "metadata": {
        "id": "3QX1ErJ_sr9u"
      },
      "execution_count": 8,
      "outputs": []
    },
    {
      "cell_type": "markdown",
      "source": [
        "**Round 1, With 0.2 Test Size**"
      ],
      "metadata": {
        "id": "-QNM9-rStVhj"
      }
    },
    {
      "cell_type": "code",
      "source": [
        "x_train, x_test, y_train, y_test = train_test_split(x,y, test_size=.2, random_state=10)"
      ],
      "metadata": {
        "id": "NPOIbErdssBB"
      },
      "execution_count": 9,
      "outputs": []
    },
    {
      "cell_type": "code",
      "source": [
        "x_test.shape"
      ],
      "metadata": {
        "colab": {
          "base_uri": "https://localhost:8080/"
        },
        "id": "0f6ApKD2ssEU",
        "outputId": "f8516ab1-b15a-4010-a1e2-d865211e5fb1"
      },
      "execution_count": 10,
      "outputs": [
        {
          "output_type": "execute_result",
          "data": {
            "text/plain": [
              "(268, 12)"
            ]
          },
          "metadata": {},
          "execution_count": 10
        }
      ]
    },
    {
      "cell_type": "code",
      "source": [
        "x_train.shape"
      ],
      "metadata": {
        "colab": {
          "base_uri": "https://localhost:8080/"
        },
        "id": "kOktbvONssHH",
        "outputId": "46457d3c-d902-4792-d5b5-d9c0bd05061b"
      },
      "execution_count": 11,
      "outputs": [
        {
          "output_type": "execute_result",
          "data": {
            "text/plain": [
              "(1070, 12)"
            ]
          },
          "metadata": {},
          "execution_count": 11
        }
      ]
    },
    {
      "cell_type": "code",
      "source": [
        "y_test.shape"
      ],
      "metadata": {
        "colab": {
          "base_uri": "https://localhost:8080/"
        },
        "id": "k0Z7qYmKssJr",
        "outputId": "5a9a6d79-f3a2-4b8f-a872-81a01e2763ed"
      },
      "execution_count": 12,
      "outputs": [
        {
          "output_type": "execute_result",
          "data": {
            "text/plain": [
              "(268,)"
            ]
          },
          "metadata": {},
          "execution_count": 12
        }
      ]
    },
    {
      "cell_type": "code",
      "source": [
        "y_train.shape"
      ],
      "metadata": {
        "colab": {
          "base_uri": "https://localhost:8080/"
        },
        "id": "ZFGxc3PKssMR",
        "outputId": "e96e03bc-2a38-4951-9620-fdffc89c7d8c"
      },
      "execution_count": 13,
      "outputs": [
        {
          "output_type": "execute_result",
          "data": {
            "text/plain": [
              "(1070,)"
            ]
          },
          "metadata": {},
          "execution_count": 13
        }
      ]
    },
    {
      "cell_type": "markdown",
      "source": [
        "**Linear Regression**"
      ],
      "metadata": {
        "id": "Ct60r88Ptpfw"
      }
    },
    {
      "cell_type": "code",
      "source": [
        "from sklearn.linear_model import LinearRegression"
      ],
      "metadata": {
        "id": "bQk2wdbassPh"
      },
      "execution_count": 14,
      "outputs": []
    },
    {
      "cell_type": "code",
      "source": [
        "lr = LinearRegression()\n",
        "lr.fit(x_train,y_train)"
      ],
      "metadata": {
        "colab": {
          "base_uri": "https://localhost:8080/"
        },
        "id": "fZvzK26gtt27",
        "outputId": "b996ebbe-ab8a-4dd9-ace6-e0d4f5e3ef99"
      },
      "execution_count": 15,
      "outputs": [
        {
          "output_type": "execute_result",
          "data": {
            "text/plain": [
              "LinearRegression()"
            ]
          },
          "metadata": {},
          "execution_count": 15
        }
      ]
    },
    {
      "cell_type": "code",
      "source": [
        "from sklearn.metrics import r2_score, mean_squared_error, mean_absolute_error"
      ],
      "metadata": {
        "id": "Y0edvQt2tt5u"
      },
      "execution_count": 16,
      "outputs": []
    },
    {
      "cell_type": "code",
      "source": [
        "print(\"Training Acc: \",r2_score(y_train,lr.predict(x_train)))\n",
        "print(\"Testing Acc: \",r2_score(y_test, lr.predict(x_test)))"
      ],
      "metadata": {
        "colab": {
          "base_uri": "https://localhost:8080/"
        },
        "id": "LLFjR-IJtt9O",
        "outputId": "204df3ac-309b-409f-84d8-96bfc158cecf"
      },
      "execution_count": 17,
      "outputs": [
        {
          "output_type": "stream",
          "name": "stdout",
          "text": [
            "Training Acc:  0.7637046266969071\n",
            "Testing Acc:  0.695461318141326\n"
          ]
        }
      ]
    },
    {
      "cell_type": "code",
      "source": [
        "print(\"Training Acc: \",mean_squared_error(y_train,lr.predict(x_train)))\n",
        "print(\"Testing Acc: \",mean_squared_error(y_test, lr.predict(x_test)))"
      ],
      "metadata": {
        "colab": {
          "base_uri": "https://localhost:8080/"
        },
        "id": "b3Rq7k89t0--",
        "outputId": "2542d9fc-8307-4d70-d866-2f02969b21a8"
      },
      "execution_count": 18,
      "outputs": [
        {
          "output_type": "stream",
          "name": "stdout",
          "text": [
            "Training Acc:  34993892.00795854\n",
            "Testing Acc:  42711762.14938789\n"
          ]
        }
      ]
    },
    {
      "cell_type": "code",
      "source": [
        "print(\"Training Acc: \",mean_absolute_error(y_train,lr.predict(x_train)))\n",
        "print(\"Testing Acc: \",mean_absolute_error(y_test, lr.predict(x_test)))"
      ],
      "metadata": {
        "colab": {
          "base_uri": "https://localhost:8080/"
        },
        "id": "ih_9BF2Xt1Bb",
        "outputId": "2971d5c4-a244-4e23-8f4d-ca7199eeb247"
      },
      "execution_count": 19,
      "outputs": [
        {
          "output_type": "stream",
          "name": "stdout",
          "text": [
            "Training Acc:  4077.261302491643\n",
            "Testing Acc:  4556.358032611934\n"
          ]
        }
      ]
    },
    {
      "cell_type": "markdown",
      "source": [
        "**Decision Tree Regressor**"
      ],
      "metadata": {
        "id": "gqfS1I2Xt8h9"
      }
    },
    {
      "cell_type": "code",
      "source": [
        "from sklearn.tree import DecisionTreeRegressor"
      ],
      "metadata": {
        "id": "Amq4z5cDt1E6"
      },
      "execution_count": 20,
      "outputs": []
    },
    {
      "cell_type": "code",
      "source": [
        "dtr = DecisionTreeRegressor()\n",
        "dtr.fit(x_train,y_train)"
      ],
      "metadata": {
        "colab": {
          "base_uri": "https://localhost:8080/"
        },
        "id": "aH0OiZhWt1qa",
        "outputId": "88b77e25-0fb0-41b9-d5dc-c1f9a7eb7d4c"
      },
      "execution_count": 21,
      "outputs": [
        {
          "output_type": "execute_result",
          "data": {
            "text/plain": [
              "DecisionTreeRegressor()"
            ]
          },
          "metadata": {},
          "execution_count": 21
        }
      ]
    },
    {
      "cell_type": "code",
      "source": [
        "print(\"Training Acc: \",r2_score(y_train,dtr.predict(x_train)))\n",
        "print(\"Testing Acc: \",r2_score(y_test, dtr.predict(x_test)))"
      ],
      "metadata": {
        "colab": {
          "base_uri": "https://localhost:8080/"
        },
        "id": "mWaWi7ENt1s3",
        "outputId": "ad087c98-071b-42a8-c393-b91554e950c6"
      },
      "execution_count": 22,
      "outputs": [
        {
          "output_type": "stream",
          "name": "stdout",
          "text": [
            "Training Acc:  1.0\n",
            "Testing Acc:  0.6110267489810479\n"
          ]
        }
      ]
    },
    {
      "cell_type": "code",
      "source": [
        "print(\"Training Acc: \",mean_squared_error(y_train,dtr.predict(x_train)))\n",
        "print(\"Testing Acc: \",mean_squared_error(y_test, dtr.predict(x_test)))"
      ],
      "metadata": {
        "colab": {
          "base_uri": "https://localhost:8080/"
        },
        "id": "KLqtwXxht1vU",
        "outputId": "99b2dab7-f973-4631-eca9-6b5aeaf536e8"
      },
      "execution_count": 23,
      "outputs": [
        {
          "output_type": "stream",
          "name": "stdout",
          "text": [
            "Training Acc:  0.0\n",
            "Testing Acc:  54553769.25715299\n"
          ]
        }
      ]
    },
    {
      "cell_type": "code",
      "source": [
        "print(\"Training Acc: \",mean_absolute_error(y_train,dtr.predict(x_train)))\n",
        "print(\"Testing Acc: \",mean_absolute_error(y_test, dtr.predict(x_test)))"
      ],
      "metadata": {
        "colab": {
          "base_uri": "https://localhost:8080/"
        },
        "id": "BYQfE5QQt1yB",
        "outputId": "c7cbd3fa-b7a7-4bdf-ed9a-8ec1bbad1656"
      },
      "execution_count": 24,
      "outputs": [
        {
          "output_type": "stream",
          "name": "stdout",
          "text": [
            "Training Acc:  0.0\n",
            "Testing Acc:  3722.240895522388\n"
          ]
        }
      ]
    },
    {
      "cell_type": "markdown",
      "source": [
        "**Gradient Boosting Regressor**"
      ],
      "metadata": {
        "id": "lD_0StyPuK8s"
      }
    },
    {
      "cell_type": "code",
      "source": [
        "from sklearn.ensemble import GradientBoostingRegressor"
      ],
      "metadata": {
        "id": "Rr6dV4-st10M"
      },
      "execution_count": 25,
      "outputs": []
    },
    {
      "cell_type": "code",
      "source": [
        "gbr = GradientBoostingRegressor()\n",
        "gbr.fit(x_train,y_train) "
      ],
      "metadata": {
        "colab": {
          "base_uri": "https://localhost:8080/"
        },
        "id": "uVIKy5TuuMRB",
        "outputId": "2c011e1e-31ef-45f2-a54a-99165fc36711"
      },
      "execution_count": 26,
      "outputs": [
        {
          "output_type": "execute_result",
          "data": {
            "text/plain": [
              "GradientBoostingRegressor()"
            ]
          },
          "metadata": {},
          "execution_count": 26
        }
      ]
    },
    {
      "cell_type": "code",
      "source": [
        "print(\"Training Acc: \",mean_squared_error(y_train,gbr.predict(x_train)))\n",
        "print(\"Testing Acc: \",mean_squared_error(y_test, gbr.predict(x_test)))"
      ],
      "metadata": {
        "colab": {
          "base_uri": "https://localhost:8080/"
        },
        "id": "bBDjx9y2uMTt",
        "outputId": "9cdc1007-278d-4b8b-bf9a-59874f09a7ad"
      },
      "execution_count": 27,
      "outputs": [
        {
          "output_type": "stream",
          "name": "stdout",
          "text": [
            "Training Acc:  12221767.88700635\n",
            "Testing Acc:  24780385.956900753\n"
          ]
        }
      ]
    },
    {
      "cell_type": "code",
      "source": [
        "errors = [mean_squared_error(y_test, y_pred) for y_pred in gbr.staged_predict(x_test)]\n",
        "best_n_estimators = np.argmin(errors)"
      ],
      "metadata": {
        "id": "SGoVXUtJuMWb"
      },
      "execution_count": 28,
      "outputs": []
    },
    {
      "cell_type": "code",
      "source": [
        "best_regressor = GradientBoostingRegressor(n_estimators=best_n_estimators)"
      ],
      "metadata": {
        "id": "bOjORqeHuMYh"
      },
      "execution_count": 29,
      "outputs": []
    },
    {
      "cell_type": "code",
      "source": [
        "best_regressor.fit(x_train,y_train)"
      ],
      "metadata": {
        "colab": {
          "base_uri": "https://localhost:8080/"
        },
        "id": "VONROCvouMao",
        "outputId": "bcbc4df5-bdb8-493c-d9fc-a29b36bcb430"
      },
      "execution_count": 30,
      "outputs": [
        {
          "output_type": "execute_result",
          "data": {
            "text/plain": [
              "GradientBoostingRegressor(n_estimators=32)"
            ]
          },
          "metadata": {},
          "execution_count": 30
        }
      ]
    },
    {
      "cell_type": "code",
      "source": [
        "print(\"Training Acc: \",mean_squared_error(y_train,best_regressor.predict(x_train)))\n",
        "print(\"Testing Acc: \",mean_squared_error(y_test, best_regressor.predict(x_test)))"
      ],
      "metadata": {
        "colab": {
          "base_uri": "https://localhost:8080/"
        },
        "id": "xML0KsKLuMdF",
        "outputId": "85dcaaae-58c2-43a1-c38c-f331c4767ac3"
      },
      "execution_count": 31,
      "outputs": [
        {
          "output_type": "stream",
          "name": "stdout",
          "text": [
            "Training Acc:  17054530.600453407\n",
            "Testing Acc:  23369606.881018844\n"
          ]
        }
      ]
    },
    {
      "cell_type": "code",
      "source": [
        "print(\"Training Acc: \",r2_score(y_train,best_regressor.predict(x_train)))\n",
        "print(\"Testing Acc: \",r2_score(y_test, best_regressor.predict(x_test)))"
      ],
      "metadata": {
        "colab": {
          "base_uri": "https://localhost:8080/"
        },
        "id": "pY1DT3L4uMfP",
        "outputId": "d24e8260-285c-468c-9830-12c4276f7d22"
      },
      "execution_count": 32,
      "outputs": [
        {
          "output_type": "stream",
          "name": "stdout",
          "text": [
            "Training Acc:  0.8848397122038711\n",
            "Testing Acc:  0.8333726140773877\n"
          ]
        }
      ]
    },
    {
      "cell_type": "code",
      "source": [
        "print(\"Training Acc: \",mean_absolute_error(y_train,best_regressor.predict(x_train)))\n",
        "print(\"Testing Acc: \",mean_absolute_error(y_test, best_regressor.predict(x_test)))"
      ],
      "metadata": {
        "colab": {
          "base_uri": "https://localhost:8080/"
        },
        "id": "8ZHEu92KuMiq",
        "outputId": "35de88d7-0acd-42c3-9a52-98182213ab78"
      },
      "execution_count": 33,
      "outputs": [
        {
          "output_type": "stream",
          "name": "stdout",
          "text": [
            "Training Acc:  2308.251979815834\n",
            "Testing Acc:  2697.3417584233216\n"
          ]
        }
      ]
    },
    {
      "cell_type": "markdown",
      "source": [
        "**Round 2, With 0.1 Test Size**"
      ],
      "metadata": {
        "id": "esQupRdkuhgF"
      }
    },
    {
      "cell_type": "code",
      "source": [
        "x_train, x_test, y_train, y_test = train_test_split(x,y, test_size=.1, random_state=10)"
      ],
      "metadata": {
        "id": "ck4j6SQlt13r"
      },
      "execution_count": 34,
      "outputs": []
    },
    {
      "cell_type": "code",
      "source": [
        "x_test.shape"
      ],
      "metadata": {
        "colab": {
          "base_uri": "https://localhost:8080/"
        },
        "id": "bsm8MyO3uinP",
        "outputId": "cc399508-5649-4210-fd37-b998335e0ee0"
      },
      "execution_count": 35,
      "outputs": [
        {
          "output_type": "execute_result",
          "data": {
            "text/plain": [
              "(134, 12)"
            ]
          },
          "metadata": {},
          "execution_count": 35
        }
      ]
    },
    {
      "cell_type": "code",
      "source": [
        "x_train.shape"
      ],
      "metadata": {
        "colab": {
          "base_uri": "https://localhost:8080/"
        },
        "id": "sg15L71duip5",
        "outputId": "1daa4442-0597-475c-b217-5aa218c5ba50"
      },
      "execution_count": 36,
      "outputs": [
        {
          "output_type": "execute_result",
          "data": {
            "text/plain": [
              "(1204, 12)"
            ]
          },
          "metadata": {},
          "execution_count": 36
        }
      ]
    },
    {
      "cell_type": "code",
      "source": [
        "y_test.shape"
      ],
      "metadata": {
        "colab": {
          "base_uri": "https://localhost:8080/"
        },
        "id": "k51YLaLFuisk",
        "outputId": "c7bf786b-bdd5-4119-d193-efd715cb8bf3"
      },
      "execution_count": 37,
      "outputs": [
        {
          "output_type": "execute_result",
          "data": {
            "text/plain": [
              "(134,)"
            ]
          },
          "metadata": {},
          "execution_count": 37
        }
      ]
    },
    {
      "cell_type": "code",
      "source": [
        "y_train.shape"
      ],
      "metadata": {
        "colab": {
          "base_uri": "https://localhost:8080/"
        },
        "id": "peQfh1OquivI",
        "outputId": "0b29fcfb-f44f-4bdb-8b25-246a2350b486"
      },
      "execution_count": 38,
      "outputs": [
        {
          "output_type": "execute_result",
          "data": {
            "text/plain": [
              "(1204,)"
            ]
          },
          "metadata": {},
          "execution_count": 38
        }
      ]
    },
    {
      "cell_type": "code",
      "source": [
        "lr = LinearRegression()\n",
        "lr.fit(x_train,y_train)"
      ],
      "metadata": {
        "colab": {
          "base_uri": "https://localhost:8080/"
        },
        "id": "6E032dVkuixz",
        "outputId": "a3ee9afc-8c72-4157-c74a-329e229d0500"
      },
      "execution_count": 39,
      "outputs": [
        {
          "output_type": "execute_result",
          "data": {
            "text/plain": [
              "LinearRegression()"
            ]
          },
          "metadata": {},
          "execution_count": 39
        }
      ]
    },
    {
      "cell_type": "code",
      "source": [
        "print(\"Training Acc: \",r2_score(y_train,lr.predict(x_train)))\n",
        "print(\"Testing Acc: \",r2_score(y_test, lr.predict(x_test)))"
      ],
      "metadata": {
        "colab": {
          "base_uri": "https://localhost:8080/"
        },
        "id": "lnyvziaZui0D",
        "outputId": "ddb2f894-6123-4a2f-cec7-31fd577c0be8"
      },
      "execution_count": 40,
      "outputs": [
        {
          "output_type": "stream",
          "name": "stdout",
          "text": [
            "Training Acc:  0.7606660889056692\n",
            "Testing Acc:  0.6562189453168576\n"
          ]
        }
      ]
    },
    {
      "cell_type": "code",
      "source": [
        "print(\"Training Acc: \",mean_squared_error(y_train,lr.predict(x_train)))\n",
        "print(\"Testing Acc: \",mean_squared_error(y_test, lr.predict(x_test)))"
      ],
      "metadata": {
        "colab": {
          "base_uri": "https://localhost:8080/"
        },
        "id": "MHJLj2jcui3I",
        "outputId": "5a71fd42-c0a8-4b95-e73e-efbb3e42c97b"
      },
      "execution_count": 41,
      "outputs": [
        {
          "output_type": "stream",
          "name": "stdout",
          "text": [
            "Training Acc:  35205356.019446276\n",
            "Testing Acc:  48558764.39502657\n"
          ]
        }
      ]
    },
    {
      "cell_type": "code",
      "source": [
        "print(\"Training Acc: \",mean_absolute_error(y_train,lr.predict(x_train)))\n",
        "print(\"Testing Acc: \",mean_absolute_error(y_test, lr.predict(x_test)))"
      ],
      "metadata": {
        "colab": {
          "base_uri": "https://localhost:8080/"
        },
        "id": "xBrKh1ORui5h",
        "outputId": "399948c8-34dc-4c48-e04c-5a6b5fd42b4d"
      },
      "execution_count": 42,
      "outputs": [
        {
          "output_type": "stream",
          "name": "stdout",
          "text": [
            "Training Acc:  4107.764505127708\n",
            "Testing Acc:  4576.4700815651295\n"
          ]
        }
      ]
    },
    {
      "cell_type": "code",
      "source": [
        "dtr = DecisionTreeRegressor()\n",
        "dtr.fit(x_train,y_train)"
      ],
      "metadata": {
        "colab": {
          "base_uri": "https://localhost:8080/"
        },
        "id": "MPL5v0Tqui8Z",
        "outputId": "e04ee55f-5c26-4a41-b4bb-a748500e222f"
      },
      "execution_count": 43,
      "outputs": [
        {
          "output_type": "execute_result",
          "data": {
            "text/plain": [
              "DecisionTreeRegressor()"
            ]
          },
          "metadata": {},
          "execution_count": 43
        }
      ]
    },
    {
      "cell_type": "code",
      "source": [
        "print(\"Training Acc: \",r2_score(y_train,dtr.predict(x_train)))\n",
        "print(\"Testing Acc: \",r2_score(y_test, dtr.predict(x_test)))"
      ],
      "metadata": {
        "colab": {
          "base_uri": "https://localhost:8080/"
        },
        "id": "65dgrixgui-Z",
        "outputId": "9528051e-8d12-44f1-8e99-f243f42107f9"
      },
      "execution_count": 44,
      "outputs": [
        {
          "output_type": "stream",
          "name": "stdout",
          "text": [
            "Training Acc:  1.0\n",
            "Testing Acc:  0.5966257064483504\n"
          ]
        }
      ]
    },
    {
      "cell_type": "code",
      "source": [
        "print(\"Training Acc: \",mean_squared_error(y_train,dtr.predict(x_train)))\n",
        "print(\"Testing Acc: \",mean_squared_error(y_test, dtr.predict(x_test)))"
      ],
      "metadata": {
        "colab": {
          "base_uri": "https://localhost:8080/"
        },
        "id": "IrCcCoXDujBI",
        "outputId": "11ccdc39-e7b6-4218-fe3b-b07b84bae1c9"
      },
      "execution_count": 45,
      "outputs": [
        {
          "output_type": "stream",
          "name": "stdout",
          "text": [
            "Training Acc:  0.0\n",
            "Testing Acc:  56976255.72077612\n"
          ]
        }
      ]
    },
    {
      "cell_type": "code",
      "source": [
        "print(\"Training Acc: \",mean_absolute_error(y_train,dtr.predict(x_train)))\n",
        "print(\"Testing Acc: \",mean_absolute_error(y_test, dtr.predict(x_test)))"
      ],
      "metadata": {
        "colab": {
          "base_uri": "https://localhost:8080/"
        },
        "id": "hG6JJErZujD3",
        "outputId": "283293cf-6daf-488a-8714-2b4c19c83a34"
      },
      "execution_count": 46,
      "outputs": [
        {
          "output_type": "stream",
          "name": "stdout",
          "text": [
            "Training Acc:  0.0\n",
            "Testing Acc:  3777.762985074627\n"
          ]
        }
      ]
    },
    {
      "cell_type": "code",
      "source": [
        "gbr = GradientBoostingRegressor()\n",
        "gbr.fit(x_train,y_train) "
      ],
      "metadata": {
        "colab": {
          "base_uri": "https://localhost:8080/"
        },
        "id": "K396PK5yu8Iu",
        "outputId": "41f82ee8-6cf2-4416-8ae2-09aef0d04e97"
      },
      "execution_count": 47,
      "outputs": [
        {
          "output_type": "execute_result",
          "data": {
            "text/plain": [
              "GradientBoostingRegressor()"
            ]
          },
          "metadata": {},
          "execution_count": 47
        }
      ]
    },
    {
      "cell_type": "code",
      "source": [
        "errors = [mean_squared_error(y_test, y_pred) for y_pred in gbr.staged_predict(x_test)]\n",
        "best_n_estimators = np.argmin(errors)"
      ],
      "metadata": {
        "id": "gcfwVwF3u8Ku"
      },
      "execution_count": 48,
      "outputs": []
    },
    {
      "cell_type": "code",
      "source": [
        "best_regressor = GradientBoostingRegressor(n_estimators=best_n_estimators)"
      ],
      "metadata": {
        "id": "hfBO6y2pu8OH"
      },
      "execution_count": 49,
      "outputs": []
    },
    {
      "cell_type": "code",
      "source": [
        "best_regressor.fit(x_train,y_train)"
      ],
      "metadata": {
        "colab": {
          "base_uri": "https://localhost:8080/"
        },
        "id": "DSmDqKgqujGB",
        "outputId": "bf1974ba-e2c1-4cf5-cf1f-3fd1fb5551df"
      },
      "execution_count": 50,
      "outputs": [
        {
          "output_type": "execute_result",
          "data": {
            "text/plain": [
              "GradientBoostingRegressor(n_estimators=33)"
            ]
          },
          "metadata": {},
          "execution_count": 50
        }
      ]
    },
    {
      "cell_type": "code",
      "source": [
        "print(\"Training Acc: \",mean_squared_error(y_train,best_regressor.predict(x_train)))\n",
        "print(\"Testing Acc: \",mean_squared_error(y_test, best_regressor.predict(x_test)))"
      ],
      "metadata": {
        "colab": {
          "base_uri": "https://localhost:8080/"
        },
        "id": "Y3OiiapgujJp",
        "outputId": "6961a433-afd4-4303-b8d9-06a3dd2e337d"
      },
      "execution_count": 51,
      "outputs": [
        {
          "output_type": "stream",
          "name": "stdout",
          "text": [
            "Training Acc:  16911297.18008551\n",
            "Testing Acc:  30130574.943511683\n"
          ]
        }
      ]
    },
    {
      "cell_type": "code",
      "source": [
        "print(\"Training Acc: \",r2_score(y_train,best_regressor.predict(x_train)))\n",
        "print(\"Testing Acc: \",r2_score(y_test, best_regressor.predict(x_test)))"
      ],
      "metadata": {
        "colab": {
          "base_uri": "https://localhost:8080/"
        },
        "id": "9zlfWaHyvG84",
        "outputId": "4206e300-13ce-4221-8fc0-ee36a2c1a86f"
      },
      "execution_count": 52,
      "outputs": [
        {
          "output_type": "stream",
          "name": "stdout",
          "text": [
            "Training Acc:  0.8850332064941279\n",
            "Testing Acc:  0.7866848351406812\n"
          ]
        }
      ]
    },
    {
      "cell_type": "code",
      "source": [
        "print(\"Training Acc: \",mean_absolute_error(y_train,best_regressor.predict(x_train)))\n",
        "print(\"Testing Acc: \",mean_absolute_error(y_test, best_regressor.predict(x_test)))"
      ],
      "metadata": {
        "colab": {
          "base_uri": "https://localhost:8080/"
        },
        "id": "GxFuDMUWvHAT",
        "outputId": "0cdee787-9a81-4cf0-9b6e-41fe8a0a126c"
      },
      "execution_count": 53,
      "outputs": [
        {
          "output_type": "stream",
          "name": "stdout",
          "text": [
            "Training Acc:  2299.7932514471895\n",
            "Testing Acc:  2915.762065973258\n"
          ]
        }
      ]
    }
  ]
}